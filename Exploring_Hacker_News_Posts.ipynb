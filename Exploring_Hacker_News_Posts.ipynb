{
  "nbformat": 4,
  "nbformat_minor": 0,
  "metadata": {
    "kernelspec": {
      "display_name": "Python 3",
      "language": "python",
      "name": "python3"
    },
    "language_info": {
      "codemirror_mode": {
        "name": "ipython",
        "version": 3
      },
      "file_extension": ".py",
      "mimetype": "text/x-python",
      "name": "python",
      "nbconvert_exporter": "python",
      "pygments_lexer": "ipython3",
      "version": "3.4.3"
    },
    "colab": {
      "name": "Exploring Hacker News Posts",
      "provenance": [],
      "collapsed_sections": [],
      "include_colab_link": true
    }
  },
  "cells": [
    {
      "cell_type": "markdown",
      "metadata": {
        "id": "view-in-github",
        "colab_type": "text"
      },
      "source": [
        "<a href=\"https://colab.research.google.com/github/noseda-allison/python-projects-/blob/main/Exploring_Hacker_News_Posts.ipynb\" target=\"_parent\"><img src=\"https://colab.research.google.com/assets/colab-badge.svg\" alt=\"Open In Colab\"/></a>"
      ]
    },
    {
      "cell_type": "markdown",
      "metadata": {
        "id": "aw-ieXcPMGtk"
      },
      "source": [
        "# Exploring Hacker News Posts\n",
        "In this project we will analyze user-sumbitted stories (AKA \"posts\"). We are interested in posts that begin with `ASK HN` and `SHOW HN`. \n",
        "  * `ASK HN` posts are submitted by users in order to ask the Hacker News community a question.\n",
        "  * `SHOW HN` posts are used to share a project, a product or something else of interest to the Hacker News community. \n",
        "\n",
        "Our goal is answer the following questions:\n",
        "* What type of post recieves more commments on average, `ASK HN` or `SHOW HN`?\n",
        "* Do posts submitted at a particular time recieve more comments on average?\n",
        "\n",
        "> Indented block\n",
        "\n"
      ]
    },
    {
      "cell_type": "code",
      "metadata": {
        "id": "tz_lXJ6D49t2"
      },
      "source": [
        "import pandas as pd\n",
        "\n",
        "path = 'https://github.com/StephaniePC1/ThisIsWhatIDoNow/raw/master/197_419_bundle_archive%20(1).zip'\n",
        "hackernews = pd.read_csv(path, compression='zip')\n",
        "# differnt data importing"
      ],
      "execution_count": null,
      "outputs": []
    },
    {
      "cell_type": "code",
      "metadata": {
        "id": "FGbLd0cpN-Us",
        "colab": {
          "base_uri": "https://localhost:8080/",
          "height": 337
        },
        "outputId": "f4ee16b6-6b91-4d3e-c7ca-14954aae64e6"
      },
      "source": [
        "hackernews.head()"
      ],
      "execution_count": null,
      "outputs": [
        {
          "output_type": "execute_result",
          "data": {
            "text/html": [
              "\n",
              "  <div id=\"df-7841e1b0-71e9-496b-9aba-5fcc8dcf66ca\">\n",
              "    <div class=\"colab-df-container\">\n",
              "      <div>\n",
              "<style scoped>\n",
              "    .dataframe tbody tr th:only-of-type {\n",
              "        vertical-align: middle;\n",
              "    }\n",
              "\n",
              "    .dataframe tbody tr th {\n",
              "        vertical-align: top;\n",
              "    }\n",
              "\n",
              "    .dataframe thead th {\n",
              "        text-align: right;\n",
              "    }\n",
              "</style>\n",
              "<table border=\"1\" class=\"dataframe\">\n",
              "  <thead>\n",
              "    <tr style=\"text-align: right;\">\n",
              "      <th></th>\n",
              "      <th>id</th>\n",
              "      <th>title</th>\n",
              "      <th>url</th>\n",
              "      <th>num_points</th>\n",
              "      <th>num_comments</th>\n",
              "      <th>author</th>\n",
              "      <th>created_at</th>\n",
              "    </tr>\n",
              "  </thead>\n",
              "  <tbody>\n",
              "    <tr>\n",
              "      <th>0</th>\n",
              "      <td>12579008</td>\n",
              "      <td>You have two days to comment if you want stem ...</td>\n",
              "      <td>http://www.regulations.gov/document?D=FDA-2015...</td>\n",
              "      <td>1</td>\n",
              "      <td>0</td>\n",
              "      <td>altstar</td>\n",
              "      <td>9/26/2016 3:26</td>\n",
              "    </tr>\n",
              "    <tr>\n",
              "      <th>1</th>\n",
              "      <td>12579005</td>\n",
              "      <td>SQLAR  the SQLite Archiver</td>\n",
              "      <td>https://www.sqlite.org/sqlar/doc/trunk/README.md</td>\n",
              "      <td>1</td>\n",
              "      <td>0</td>\n",
              "      <td>blacksqr</td>\n",
              "      <td>9/26/2016 3:24</td>\n",
              "    </tr>\n",
              "    <tr>\n",
              "      <th>2</th>\n",
              "      <td>12578997</td>\n",
              "      <td>What if we just printed a flatscreen televisio...</td>\n",
              "      <td>https://medium.com/vanmoof/our-secrets-out-f21...</td>\n",
              "      <td>1</td>\n",
              "      <td>0</td>\n",
              "      <td>pavel_lishin</td>\n",
              "      <td>9/26/2016 3:19</td>\n",
              "    </tr>\n",
              "    <tr>\n",
              "      <th>3</th>\n",
              "      <td>12578989</td>\n",
              "      <td>algorithmic music</td>\n",
              "      <td>http://cacm.acm.org/magazines/2011/7/109891-al...</td>\n",
              "      <td>1</td>\n",
              "      <td>0</td>\n",
              "      <td>poindontcare</td>\n",
              "      <td>9/26/2016 3:16</td>\n",
              "    </tr>\n",
              "    <tr>\n",
              "      <th>4</th>\n",
              "      <td>12578979</td>\n",
              "      <td>How the Data Vault Enables the Next-Gen Data W...</td>\n",
              "      <td>https://www.talend.com/blog/2016/05/12/talend-...</td>\n",
              "      <td>1</td>\n",
              "      <td>0</td>\n",
              "      <td>markgainor1</td>\n",
              "      <td>9/26/2016 3:14</td>\n",
              "    </tr>\n",
              "  </tbody>\n",
              "</table>\n",
              "</div>\n",
              "      <button class=\"colab-df-convert\" onclick=\"convertToInteractive('df-7841e1b0-71e9-496b-9aba-5fcc8dcf66ca')\"\n",
              "              title=\"Convert this dataframe to an interactive table.\"\n",
              "              style=\"display:none;\">\n",
              "        \n",
              "  <svg xmlns=\"http://www.w3.org/2000/svg\" height=\"24px\"viewBox=\"0 0 24 24\"\n",
              "       width=\"24px\">\n",
              "    <path d=\"M0 0h24v24H0V0z\" fill=\"none\"/>\n",
              "    <path d=\"M18.56 5.44l.94 2.06.94-2.06 2.06-.94-2.06-.94-.94-2.06-.94 2.06-2.06.94zm-11 1L8.5 8.5l.94-2.06 2.06-.94-2.06-.94L8.5 2.5l-.94 2.06-2.06.94zm10 10l.94 2.06.94-2.06 2.06-.94-2.06-.94-.94-2.06-.94 2.06-2.06.94z\"/><path d=\"M17.41 7.96l-1.37-1.37c-.4-.4-.92-.59-1.43-.59-.52 0-1.04.2-1.43.59L10.3 9.45l-7.72 7.72c-.78.78-.78 2.05 0 2.83L4 21.41c.39.39.9.59 1.41.59.51 0 1.02-.2 1.41-.59l7.78-7.78 2.81-2.81c.8-.78.8-2.07 0-2.86zM5.41 20L4 18.59l7.72-7.72 1.47 1.35L5.41 20z\"/>\n",
              "  </svg>\n",
              "      </button>\n",
              "      \n",
              "  <style>\n",
              "    .colab-df-container {\n",
              "      display:flex;\n",
              "      flex-wrap:wrap;\n",
              "      gap: 12px;\n",
              "    }\n",
              "\n",
              "    .colab-df-convert {\n",
              "      background-color: #E8F0FE;\n",
              "      border: none;\n",
              "      border-radius: 50%;\n",
              "      cursor: pointer;\n",
              "      display: none;\n",
              "      fill: #1967D2;\n",
              "      height: 32px;\n",
              "      padding: 0 0 0 0;\n",
              "      width: 32px;\n",
              "    }\n",
              "\n",
              "    .colab-df-convert:hover {\n",
              "      background-color: #E2EBFA;\n",
              "      box-shadow: 0px 1px 2px rgba(60, 64, 67, 0.3), 0px 1px 3px 1px rgba(60, 64, 67, 0.15);\n",
              "      fill: #174EA6;\n",
              "    }\n",
              "\n",
              "    [theme=dark] .colab-df-convert {\n",
              "      background-color: #3B4455;\n",
              "      fill: #D2E3FC;\n",
              "    }\n",
              "\n",
              "    [theme=dark] .colab-df-convert:hover {\n",
              "      background-color: #434B5C;\n",
              "      box-shadow: 0px 1px 3px 1px rgba(0, 0, 0, 0.15);\n",
              "      filter: drop-shadow(0px 1px 2px rgba(0, 0, 0, 0.3));\n",
              "      fill: #FFFFFF;\n",
              "    }\n",
              "  </style>\n",
              "\n",
              "      <script>\n",
              "        const buttonEl =\n",
              "          document.querySelector('#df-7841e1b0-71e9-496b-9aba-5fcc8dcf66ca button.colab-df-convert');\n",
              "        buttonEl.style.display =\n",
              "          google.colab.kernel.accessAllowed ? 'block' : 'none';\n",
              "\n",
              "        async function convertToInteractive(key) {\n",
              "          const element = document.querySelector('#df-7841e1b0-71e9-496b-9aba-5fcc8dcf66ca');\n",
              "          const dataTable =\n",
              "            await google.colab.kernel.invokeFunction('convertToInteractive',\n",
              "                                                     [key], {});\n",
              "          if (!dataTable) return;\n",
              "\n",
              "          const docLinkHtml = 'Like what you see? Visit the ' +\n",
              "            '<a target=\"_blank\" href=https://colab.research.google.com/notebooks/data_table.ipynb>data table notebook</a>'\n",
              "            + ' to learn more about interactive tables.';\n",
              "          element.innerHTML = '';\n",
              "          dataTable['output_type'] = 'display_data';\n",
              "          await google.colab.output.renderOutput(dataTable, element);\n",
              "          const docLink = document.createElement('div');\n",
              "          docLink.innerHTML = docLinkHtml;\n",
              "          element.appendChild(docLink);\n",
              "        }\n",
              "      </script>\n",
              "    </div>\n",
              "  </div>\n",
              "  "
            ],
            "text/plain": [
              "         id  ...      created_at\n",
              "0  12579008  ...  9/26/2016 3:26\n",
              "1  12579005  ...  9/26/2016 3:24\n",
              "2  12578997  ...  9/26/2016 3:19\n",
              "3  12578989  ...  9/26/2016 3:16\n",
              "4  12578979  ...  9/26/2016 3:14\n",
              "\n",
              "[5 rows x 7 columns]"
            ]
          },
          "metadata": {},
          "execution_count": 2
        }
      ]
    },
    {
      "cell_type": "code",
      "metadata": {
        "id": "RYdF6Z0kmffr"
      },
      "source": [
        "hn = [hackernews.columns.values.tolist()] + hackernews.values.tolist()\n",
        "# Converted the Pandas DataFrame to a list of list"
      ],
      "execution_count": null,
      "outputs": []
    },
    {
      "cell_type": "code",
      "metadata": {
        "id": "aJQkvTKWmffv",
        "colab": {
          "base_uri": "https://localhost:8080/"
        },
        "outputId": "f226e06e-0374-4b35-f0a6-3b4ac7e50ebe"
      },
      "source": [
        "headers = hn[0]\n",
        "print(headers)"
      ],
      "execution_count": null,
      "outputs": [
        {
          "output_type": "stream",
          "name": "stdout",
          "text": [
            "['id', 'title', 'url', 'num_points', 'num_comments', 'author', 'created_at']\n"
          ]
        }
      ]
    },
    {
      "cell_type": "code",
      "metadata": {
        "id": "pn2zC_2Dmffy",
        "colab": {
          "base_uri": "https://localhost:8080/"
        },
        "outputId": "fc3c2390-8f0d-44d1-e61f-79418256ec2b"
      },
      "source": [
        "hn = hn[1:]\n",
        "print(hn[:5])"
      ],
      "execution_count": null,
      "outputs": [
        {
          "output_type": "stream",
          "name": "stdout",
          "text": [
            "[[12579008, 'You have two days to comment if you want stem cells to be classified as your own', 'http://www.regulations.gov/document?D=FDA-2015-D-3719-0018', 1, 0, 'altstar', '9/26/2016 3:26'], [12579005, 'SQLAR  the SQLite Archiver', 'https://www.sqlite.org/sqlar/doc/trunk/README.md', 1, 0, 'blacksqr', '9/26/2016 3:24'], [12578997, 'What if we just printed a flatscreen television on the side of our boxes?', 'https://medium.com/vanmoof/our-secrets-out-f21c1f03fdc8#.ietxmez43', 1, 0, 'pavel_lishin', '9/26/2016 3:19'], [12578989, 'algorithmic music', 'http://cacm.acm.org/magazines/2011/7/109891-algorithmic-composition/fulltext', 1, 0, 'poindontcare', '9/26/2016 3:16'], [12578979, 'How the Data Vault Enables the Next-Gen Data Warehouse and Data Lake', 'https://www.talend.com/blog/2016/05/12/talend-and-Â\\x93the-data-vaultÂ\\x94', 1, 0, 'markgainor1', '9/26/2016 3:14']]\n"
          ]
        }
      ]
    },
    {
      "cell_type": "code",
      "metadata": {
        "id": "sTEKtaYbmff1"
      },
      "source": [
        "ask_posts=[]\n",
        "show_posts=[]\n",
        "other_posts=[]"
      ],
      "execution_count": null,
      "outputs": []
    },
    {
      "cell_type": "code",
      "metadata": {
        "id": "sMF5fzEumff4"
      },
      "source": [
        "for post in hn:\n",
        "    title = post[1]\n",
        "    if title.lower().startswith(\"ask hn\"):\n",
        "        ask_posts.append(post)\n",
        "    elif title.lower().startswith(\"show hn\"):\n",
        "        show_posts.append(post)\n",
        "    else:\n",
        "        other_posts.append(post)"
      ],
      "execution_count": null,
      "outputs": []
    },
    {
      "cell_type": "code",
      "metadata": {
        "id": "0DgXBvBWmff6",
        "colab": {
          "base_uri": "https://localhost:8080/"
        },
        "outputId": "c01c5694-98da-4f2b-e585-1b7a379eaa71"
      },
      "source": [
        "print(\"The number of ask hn posts: \", len(ask_posts))\n",
        "print(\"The number of show hn posts: \", len(show_posts))\n",
        "print(\"The number of other posts: \", len(other_posts))\n",
        "# Printed text associated with the solution"
      ],
      "execution_count": null,
      "outputs": [
        {
          "output_type": "stream",
          "name": "stdout",
          "text": [
            "The number of ask hn posts:  9139\n",
            "The number of show hn posts:  10158\n",
            "The number of other posts:  273822\n"
          ]
        }
      ]
    },
    {
      "cell_type": "code",
      "metadata": {
        "id": "xEyzVMUVmff9"
      },
      "source": [
        "total_ask_comments = 0"
      ],
      "execution_count": null,
      "outputs": []
    },
    {
      "cell_type": "code",
      "metadata": {
        "id": "UzEQp2yNmfgA"
      },
      "source": [
        "for post in ask_posts:\n",
        "    total_ask_comments += int(post[4])"
      ],
      "execution_count": null,
      "outputs": []
    },
    {
      "cell_type": "code",
      "metadata": {
        "id": "mtiJpnzamfgD",
        "colab": {
          "base_uri": "https://localhost:8080/"
        },
        "outputId": "5f69bd95-1403-41fb-ae5e-965d9085d3b1"
      },
      "source": [
        "avg_ask_comments = round(total_ask_comments / len(ask_posts) ,2)\n",
        "print(total_ask_comments)\n",
        "# Rounded "
      ],
      "execution_count": null,
      "outputs": [
        {
          "output_type": "stream",
          "name": "stdout",
          "text": [
            "94986\n"
          ]
        }
      ]
    },
    {
      "cell_type": "code",
      "metadata": {
        "id": "tiJlMLFemfgF",
        "colab": {
          "base_uri": "https://localhost:8080/"
        },
        "outputId": "3ffd8c96-abbc-4f32-9170-b17686ab2fc6"
      },
      "source": [
        "print(avg_ask_comments)"
      ],
      "execution_count": null,
      "outputs": [
        {
          "output_type": "stream",
          "name": "stdout",
          "text": [
            "10.39\n"
          ]
        }
      ]
    },
    {
      "cell_type": "code",
      "metadata": {
        "id": "eNlgmhEnmfgI"
      },
      "source": [
        "total_show_comments = 0"
      ],
      "execution_count": null,
      "outputs": []
    },
    {
      "cell_type": "code",
      "metadata": {
        "id": "b-UF-2ImmfgL"
      },
      "source": [
        "for post in ask_posts:\n",
        "    total_show_comments += int(post[4])"
      ],
      "execution_count": null,
      "outputs": []
    },
    {
      "cell_type": "code",
      "metadata": {
        "id": "GsAHc2OzmfgO"
      },
      "source": [
        "avg_show_comments = round(total_show_comments / len(show_posts) ,2)\n",
        "# Rounded"
      ],
      "execution_count": null,
      "outputs": []
    },
    {
      "cell_type": "code",
      "metadata": {
        "id": "l_eKP1zsmfgQ",
        "colab": {
          "base_uri": "https://localhost:8080/"
        },
        "outputId": "60800e0b-ab24-4489-fb0b-ea117703df01"
      },
      "source": [
        "print(avg_show_comments)"
      ],
      "execution_count": null,
      "outputs": [
        {
          "output_type": "stream",
          "name": "stdout",
          "text": [
            "9.35\n"
          ]
        }
      ]
    },
    {
      "cell_type": "markdown",
      "metadata": {
        "id": "IrnjdpBgPLaM"
      },
      "source": [
        "After separating the `ASK_HN` posts from the `SHOW_HN` posts, we calculated the average number of comments on both types of post.\n",
        "\n",
        " *  On average `ASK_HN` posts receive more comments - about **10.39** comments per post.\n",
        " \n",
        " *  `SHOW_HN` posts recieve about **9.35**.\n",
        "\n",
        "Now we will analyse the `ASK_HN` posts to find the time of day (or night) this type of post recieves the most comments."
      ]
    },
    {
      "cell_type": "code",
      "metadata": {
        "id": "KFNpqn_qmfgT"
      },
      "source": [
        "import datetime as dt"
      ],
      "execution_count": null,
      "outputs": []
    },
    {
      "cell_type": "code",
      "metadata": {
        "id": "wYKq7JzBmfgV"
      },
      "source": [
        "result_list=[]"
      ],
      "execution_count": null,
      "outputs": []
    },
    {
      "cell_type": "code",
      "metadata": {
        "id": "OGvEkDPXmfgX"
      },
      "source": [
        "for post in ask_posts:\n",
        "    result_list.append([post[6], int(post[4])])"
      ],
      "execution_count": null,
      "outputs": []
    },
    {
      "cell_type": "code",
      "metadata": {
        "id": "91gWPzMemfga"
      },
      "source": [
        "comments_by_hour = {}\n",
        "counts_by_hour = {}"
      ],
      "execution_count": null,
      "outputs": []
    },
    {
      "cell_type": "code",
      "metadata": {
        "id": "KwRigiqdmfgc"
      },
      "source": [
        "date_time = \"%m/%d/%Y %H:%M\"\n",
        "for each_row in result_list:\n",
        "    date = each_row[0]\n",
        "    comment = each_row[1]\n",
        "    time = dt.datetime.strptime(date, date_time).strftime(\"%H\")\n",
        "    if time in counts_by_hour:\n",
        "        comments_by_hour[time] += comment\n",
        "        counts_by_hour[time] += 1\n",
        "    else:\n",
        "        comments_by_hour[time] = comment\n",
        "        counts_by_hour[time] = 1"
      ],
      "execution_count": null,
      "outputs": []
    },
    {
      "cell_type": "code",
      "metadata": {
        "id": "YRBknLDsmfge",
        "colab": {
          "base_uri": "https://localhost:8080/"
        },
        "outputId": "c81e9af9-090a-4b25-99d4-9bebe7c9c6a4"
      },
      "source": [
        "counts_by_hour"
      ],
      "execution_count": null,
      "outputs": [
        {
          "output_type": "execute_result",
          "data": {
            "text/plain": [
              "{'00': 301,\n",
              " '01': 282,\n",
              " '02': 269,\n",
              " '03': 271,\n",
              " '04': 243,\n",
              " '05': 209,\n",
              " '06': 234,\n",
              " '07': 226,\n",
              " '08': 257,\n",
              " '09': 222,\n",
              " '10': 282,\n",
              " '11': 312,\n",
              " '12': 342,\n",
              " '13': 444,\n",
              " '14': 513,\n",
              " '15': 646,\n",
              " '16': 579,\n",
              " '17': 587,\n",
              " '18': 614,\n",
              " '19': 552,\n",
              " '20': 510,\n",
              " '21': 518,\n",
              " '22': 383,\n",
              " '23': 343}"
            ]
          },
          "metadata": {},
          "execution_count": 22
        }
      ]
    },
    {
      "cell_type": "code",
      "metadata": {
        "id": "N2cL7tb7mfgg",
        "colab": {
          "base_uri": "https://localhost:8080/"
        },
        "outputId": "6cc19bca-da56-40c5-beea-92e475597271"
      },
      "source": [
        "comments_by_hour"
      ],
      "execution_count": null,
      "outputs": [
        {
          "output_type": "execute_result",
          "data": {
            "text/plain": [
              "{'00': 2277,\n",
              " '01': 2089,\n",
              " '02': 2996,\n",
              " '03': 2154,\n",
              " '04': 2360,\n",
              " '05': 1838,\n",
              " '06': 1587,\n",
              " '07': 1585,\n",
              " '08': 2362,\n",
              " '09': 1477,\n",
              " '10': 3013,\n",
              " '11': 2797,\n",
              " '12': 4234,\n",
              " '13': 7245,\n",
              " '14': 4972,\n",
              " '15': 18525,\n",
              " '16': 4466,\n",
              " '17': 5547,\n",
              " '18': 4877,\n",
              " '19': 3954,\n",
              " '20': 4462,\n",
              " '21': 4500,\n",
              " '22': 3372,\n",
              " '23': 2297}"
            ]
          },
          "metadata": {},
          "execution_count": 23
        }
      ]
    },
    {
      "cell_type": "code",
      "metadata": {
        "id": "DmQzJle_mfgh"
      },
      "source": [
        "average_comments_by_hour = []\n",
        "\n",
        "for hour in comments_by_hour:\n",
        "    average_comments_by_hour.append([hour, round(comments_by_hour[hour] / counts_by_hour[hour] ,2)])\n",
        "# Rounded"
      ],
      "execution_count": null,
      "outputs": []
    },
    {
      "cell_type": "code",
      "metadata": {
        "id": "28w2be3cmfgj",
        "colab": {
          "base_uri": "https://localhost:8080/"
        },
        "outputId": "4e3e9272-dcc5-46ab-8fc6-fd9f9fa8d6c8"
      },
      "source": [
        "avg_by_hour=average_comments_by_hour\n",
        "avg_by_hour"
      ],
      "execution_count": null,
      "outputs": [
        {
          "output_type": "execute_result",
          "data": {
            "text/plain": [
              "[['02', 11.14],\n",
              " ['01', 7.41],\n",
              " ['22', 8.8],\n",
              " ['21', 8.69],\n",
              " ['19', 7.16],\n",
              " ['17', 9.45],\n",
              " ['15', 28.68],\n",
              " ['14', 9.69],\n",
              " ['13', 16.32],\n",
              " ['11', 8.96],\n",
              " ['10', 10.68],\n",
              " ['09', 6.65],\n",
              " ['07', 7.01],\n",
              " ['03', 7.95],\n",
              " ['23', 6.7],\n",
              " ['20', 8.75],\n",
              " ['16', 7.71],\n",
              " ['08', 9.19],\n",
              " ['00', 7.56],\n",
              " ['18', 7.94],\n",
              " ['12', 12.38],\n",
              " ['04', 9.71],\n",
              " ['06', 6.78],\n",
              " ['05', 8.79]]"
            ]
          },
          "metadata": {},
          "execution_count": 25
        }
      ]
    },
    {
      "cell_type": "code",
      "metadata": {
        "id": "4KcYrC50mfgn"
      },
      "source": [
        "swap_avg_by_hour = []\n",
        "for row in avg_by_hour:\n",
        "    swap_avg_by_hour.append([row[1], row[0]])"
      ],
      "execution_count": null,
      "outputs": []
    },
    {
      "cell_type": "code",
      "metadata": {
        "id": "63iB6mSdmfgp",
        "colab": {
          "base_uri": "https://localhost:8080/"
        },
        "outputId": "9492084e-381f-4cd0-eb09-0c31f07668d4"
      },
      "source": [
        "swap_avg_by_hour"
      ],
      "execution_count": null,
      "outputs": [
        {
          "output_type": "execute_result",
          "data": {
            "text/plain": [
              "[[11.14, '02'],\n",
              " [7.41, '01'],\n",
              " [8.8, '22'],\n",
              " [8.69, '21'],\n",
              " [7.16, '19'],\n",
              " [9.45, '17'],\n",
              " [28.68, '15'],\n",
              " [9.69, '14'],\n",
              " [16.32, '13'],\n",
              " [8.96, '11'],\n",
              " [10.68, '10'],\n",
              " [6.65, '09'],\n",
              " [7.01, '07'],\n",
              " [7.95, '03'],\n",
              " [6.7, '23'],\n",
              " [8.75, '20'],\n",
              " [7.71, '16'],\n",
              " [9.19, '08'],\n",
              " [7.56, '00'],\n",
              " [7.94, '18'],\n",
              " [12.38, '12'],\n",
              " [9.71, '04'],\n",
              " [6.78, '06'],\n",
              " [8.79, '05']]"
            ]
          },
          "metadata": {},
          "execution_count": 27
        }
      ]
    },
    {
      "cell_type": "code",
      "metadata": {
        "id": "b0IY2kaFmfgr"
      },
      "source": [
        "sorted_swap = sorted(swap_avg_by_hour, reverse=True)"
      ],
      "execution_count": null,
      "outputs": []
    },
    {
      "cell_type": "code",
      "metadata": {
        "id": "SUVQJXAAmfgw",
        "colab": {
          "base_uri": "https://localhost:8080/"
        },
        "outputId": "f2b55a96-1bf3-4044-ccff-16de6dddd49f"
      },
      "source": [
        "print(\"Top 5 Hours for Ask Posts Comments\")\n",
        "print(\"\\n\")\n",
        "\n",
        "for avg, hour in sorted_swap[:5]:\n",
        "    print(\"{}: {:.2f} average comments per post\".format(\n",
        "            dt.datetime.strptime(hour, \"%H\").strftime(\"%H:%M\"),avg))"
      ],
      "execution_count": null,
      "outputs": [
        {
          "output_type": "stream",
          "name": "stdout",
          "text": [
            "Top 5 Hours for Ask Posts Comments\n",
            "\n",
            "\n",
            "15:00: 28.68 average comments per post\n",
            "13:00: 16.32 average comments per post\n",
            "12:00: 12.38 average comments per post\n",
            "02:00: 11.14 average comments per post\n",
            "10:00: 10.68 average comments per post\n"
          ]
        }
      ]
    },
    {
      "cell_type": "code",
      "metadata": {
        "id": "4Q_k4-haXK7R",
        "colab": {
          "base_uri": "https://localhost:8080/"
        },
        "outputId": "b9b69f4e-4e67-4286-f079-f202788bce9d"
      },
      "source": [
        "diff=28.68-16.32\n",
        "print(diff)\n",
        "print((diff/16.32)*100)\n",
        "# Simple calculations for write up"
      ],
      "execution_count": null,
      "outputs": [
        {
          "output_type": "stream",
          "name": "stdout",
          "text": [
            "12.36\n",
            "75.73529411764706\n"
          ]
        }
      ]
    },
    {
      "cell_type": "markdown",
      "metadata": {
        "id": "mGOeICFUmfgx"
      },
      "source": [
        "Our analysis indicates that we are most likely to recieve comments on our post at 15:00 (3:00 PM EST as we are currently in EDT this time would be 4:00 PM until November). \n",
        "\n",
        "There is a significant difference between the number of comments for the highest averaging hour and the second highest hour - appoximately 12 more comments which is a 76% increase."
      ]
    }
  ]
}
